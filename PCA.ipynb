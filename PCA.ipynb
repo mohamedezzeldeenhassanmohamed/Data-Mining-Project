{
 "cells": [
  {
   "cell_type": "code",
   "execution_count": 61,
   "id": "e287b971-2ab7-4bd3-832e-b28d887c225c",
   "metadata": {},
   "outputs": [],
   "source": [
    "import numpy as np\n",
    "import pandas as pd\n",
    "dataset = pd.read_csv('cleaned_emotion.csv')\n",
    "x=dataset.drop(columns=['label'])\n",
    "y=dataset['label']\n",
    "\n"
   ]
  },
  {
   "cell_type": "code",
   "execution_count": 62,
   "id": "9d5e7d2c-5320-4658-9c17-c005b3a88191",
   "metadata": {},
   "outputs": [],
   "source": [
    "from sklearn.model_selection import train_test_split\n",
    "X_train, X_test, y_train, y_test = train_test_split(x, y, test_size=0.3, random_state=0)\n",
    "from sklearn.preprocessing import StandardScaler\n",
    "sc = StandardScaler()\n",
    "X_train = sc.fit_transform(X_train)\n",
    "X_test = sc.transform(X_test)"
   ]
  },
  {
   "cell_type": "code",
   "execution_count": 67,
   "id": "72e83a93-d7b7-4e07-8ca0-edb97a794337",
   "metadata": {},
   "outputs": [],
   "source": [
    "from sklearn.decomposition import PCA\n",
    "pca = PCA(n_components= 3)\n",
    "X_train = pca.fit_transform(X_train)\n",
    "X_test = pca.transform(X_test)"
   ]
  },
  {
   "cell_type": "code",
   "execution_count": 68,
   "id": "a424bb48-ccce-483f-932b-a5c3b859dbea",
   "metadata": {},
   "outputs": [
    {
     "name": "stdout",
     "output_type": "stream",
     "text": [
      "[[62 13 22]\n",
      " [47 35  8]\n",
      " [38 21 27]]\n"
     ]
    }
   ],
   "source": [
    "y_pred = classifier.predict(X_test)\n",
    "\n",
    "from sklearn.metrics import confusion_matrix\n",
    "from sklearn.metrics import accuracy_score\n",
    "\n",
    "cm = confusion_matrix(y_test, y_pred)\n",
    "print(cm)"
   ]
  },
  {
   "cell_type": "code",
   "execution_count": 69,
   "id": "94352f55-ac2d-449f-a04e-f0fb56722eaa",
   "metadata": {},
   "outputs": [
    {
     "name": "stdout",
     "output_type": "stream",
     "text": [
      "Accuracy\n",
      "0.4542124542124542\n"
     ]
    }
   ],
   "source": [
    "print('Accuracy')\n",
    "print(accuracy_score(y_test, y_pred))"
   ]
  },
  {
   "cell_type": "code",
   "execution_count": 71,
   "id": "b76aa401-22a8-416e-8ea3-479f3d1a46b2",
   "metadata": {},
   "outputs": [
    {
     "name": "stdout",
     "output_type": "stream",
     "text": [
      "[0.49800529 0.17321805 0.14139098]\n"
     ]
    }
   ],
   "source": [
    "principalDf = pd.DataFrame(dataset, columns=['A', 'B', 'C'])\n",
    "finalDf = pd.concat([principalDf, y], axis=1)\n",
    "\n",
    "finalDf.to_csv(\"pcadata.csv\", index=False, header=True)  # save final df to a csv file\n",
    "\n",
    "exvar = pca.explained_variance_ratio_\n",
    "cexvarsum = np.cumsum(exvar)\n",
    "\n",
    "print(exvar)"
   ]
  },
  {
   "cell_type": "code",
   "execution_count": null,
   "id": "7d7b47a9-6c7e-4e7a-bb66-7ed29675c828",
   "metadata": {},
   "outputs": [],
   "source": []
  },
  {
   "cell_type": "code",
   "execution_count": null,
   "id": "c0e7c71c-cf83-4b6b-b7e5-2505379fe478",
   "metadata": {},
   "outputs": [],
   "source": []
  }
 ],
 "metadata": {
  "kernelspec": {
   "display_name": "Python 3 (ipykernel)",
   "language": "python",
   "name": "python3"
  },
  "language_info": {
   "codemirror_mode": {
    "name": "ipython",
    "version": 3
   },
   "file_extension": ".py",
   "mimetype": "text/x-python",
   "name": "python",
   "nbconvert_exporter": "python",
   "pygments_lexer": "ipython3",
   "version": "3.9.7"
  }
 },
 "nbformat": 4,
 "nbformat_minor": 5
}
